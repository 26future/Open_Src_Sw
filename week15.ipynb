{
 "cells": [
  {
   "cell_type": "code",
   "execution_count": 3,
   "id": "819f2614",
   "metadata": {},
   "outputs": [],
   "source": [
    "import os\n",
    "import sys\n",
    "import urllib.request"
   ]
  },
  {
   "cell_type": "code",
   "execution_count": 26,
   "id": "ce8eb663",
   "metadata": {},
   "outputs": [],
   "source": [
    "import ast"
   ]
  },
  {
   "cell_type": "code",
   "execution_count": 47,
   "id": "503e4c5a",
   "metadata": {},
   "outputs": [
    {
     "name": "stdout",
     "output_type": "stream",
     "text": [
      "검색어를 입력하세요:기생충\n",
      "=item_0====================\n",
      "title: <b>기생충</b>-부잣집여인들\n",
      "subtitle: \n",
      "director: 파퓰러킴|\n",
      "userRating: 0.00\n",
      "\n",
      "=item_1====================\n",
      "title: <b>기생충</b>\n",
      "subtitle: PARASITE\n",
      "director: 봉준호|\n",
      "userRating: 8.49\n",
      "\n",
      "=item_2====================\n",
      "title: 마약<b>기생충</b>\n",
      "subtitle: Running With The Devil\n",
      "director: 제이슨 카벨|\n",
      "userRating: 0.00\n",
      "\n",
      "=item_3====================\n",
      "title: 장모님 가슴 맛보는 <b>기생충</b> 사위\n",
      "subtitle: \n",
      "director: 삼삼오홍|\n",
      "userRating: 0.00\n",
      "\n",
      "=item_4====================\n",
      "title: 파라노말 <b>기생충</b>\n",
      "subtitle: The Unbelievable Ability\n",
      "director: 나츠메 타이치로|\n",
      "userRating: 9.80\n",
      "\n",
      "=item_5====================\n",
      "title: <b>기생충</b>\n",
      "subtitle: A Parasite\n",
      "director: 박민재|\n",
      "userRating: 0.00\n",
      "\n"
     ]
    }
   ],
   "source": [
    "client_id = \"0kxABhNhucgI13miRaCg\"\n",
    "client_secret = \"YTn0LjLr7o\"\n",
    "query = input(\"검색어를 입력하세요:\")\n",
    "encText = urllib.parse.quote(query)\n",
    "url = \"https://openapi.naver.com/v1/search/movie?query=\" + encText # json 결과\n",
    "# url = \"https://openapi.naver.com/v1/search/blog.xml?query=\" + encText # xml 결과\n",
    "request = urllib.request.Request(url)\n",
    "request.add_header(\"X-Naver-Client-Id\",client_id)\n",
    "request.add_header(\"X-Naver-Client-Secret\",client_secret)\n",
    "response = urllib.request.urlopen(request)\n",
    "rescode = response.getcode()\n",
    "if(rescode==200):\n",
    "    response_body = response.read()\n",
    "    results = response_body.decode('utf-8')\n",
    "    result_dict = ast.literal_eval(results)\n",
    "    result_items = result_dict[\"items\"]\n",
    "    \n",
    "    for idx, item in enumerate(result_items):\n",
    "        print(\"=\"+'item_'+str(idx)+('='*20))\n",
    "        print(\"title:\", item['title'].replace('\\\\',''))\n",
    "        print(\"subtitle:\", item['subtitle'])\n",
    "        print(\"director:\", item['director'])\n",
    "        print(\"userRating:\", item['userRating'])\n",
    "        print()\n",
    "else:\n",
    "    print(\"Error Code:\" + rescode)"
   ]
  },
  {
   "cell_type": "code",
   "execution_count": null,
   "id": "c94507ec",
   "metadata": {},
   "outputs": [],
   "source": []
  }
 ],
 "metadata": {
  "kernelspec": {
   "display_name": "Python 3",
   "language": "python",
   "name": "python3"
  },
  "language_info": {
   "codemirror_mode": {
    "name": "ipython",
    "version": 3
   },
   "file_extension": ".py",
   "mimetype": "text/x-python",
   "name": "python",
   "nbconvert_exporter": "python",
   "pygments_lexer": "ipython3",
   "version": "3.8.8"
  }
 },
 "nbformat": 4,
 "nbformat_minor": 5
}
