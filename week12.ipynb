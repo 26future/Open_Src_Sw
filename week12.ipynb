{
 "cells": [
  {
   "cell_type": "code",
   "execution_count": 1,
   "id": "1f692392",
   "metadata": {},
   "outputs": [],
   "source": [
    "import pandas as pd"
   ]
  },
  {
   "cell_type": "markdown",
   "id": "16ce41f7",
   "metadata": {},
   "source": [
    "## 1. 서울의 일교차"
   ]
  },
  {
   "cell_type": "code",
   "execution_count": 154,
   "id": "4bd75540",
   "metadata": {},
   "outputs": [],
   "source": [
    "file = pd.read_csv(\"C:/Users/samsung-notebook/Desktop/jupyter_notebook/ta_20220519134827.csv\", encoding='euc-kr', sep=\"\\t\", header=None)[7:]"
   ]
  },
  {
   "cell_type": "code",
   "execution_count": 155,
   "id": "fa2a7c7d",
   "metadata": {},
   "outputs": [],
   "source": [
    "df = pd.DataFrame(file).reset_index(drop=True)"
   ]
  },
  {
   "cell_type": "code",
   "execution_count": 156,
   "id": "bcc60230",
   "metadata": {},
   "outputs": [
    {
     "data": {
      "text/html": [
       "<div>\n",
       "<style scoped>\n",
       "    .dataframe tbody tr th:only-of-type {\n",
       "        vertical-align: middle;\n",
       "    }\n",
       "\n",
       "    .dataframe tbody tr th {\n",
       "        vertical-align: top;\n",
       "    }\n",
       "\n",
       "    .dataframe thead th {\n",
       "        text-align: right;\n",
       "    }\n",
       "</style>\n",
       "<table border=\"1\" class=\"dataframe\">\n",
       "  <thead>\n",
       "    <tr style=\"text-align: right;\">\n",
       "      <th></th>\n",
       "      <th>0</th>\n",
       "    </tr>\n",
       "  </thead>\n",
       "  <tbody>\n",
       "    <tr>\n",
       "      <th>0</th>\n",
       "      <td>2021-01-01,108,-4.2,-9.8,1.6</td>\n",
       "    </tr>\n",
       "    <tr>\n",
       "      <th>1</th>\n",
       "      <td>2021-01-02,108,-5,-8.4,-1.4</td>\n",
       "    </tr>\n",
       "    <tr>\n",
       "      <th>2</th>\n",
       "      <td>2021-01-03,108,-5.6,-9.1,-2</td>\n",
       "    </tr>\n",
       "    <tr>\n",
       "      <th>3</th>\n",
       "      <td>2021-01-04,108,-3.5,-8.4,0.3</td>\n",
       "    </tr>\n",
       "    <tr>\n",
       "      <th>4</th>\n",
       "      <td>2021-01-05,108,-5.5,-9.9,-2.1</td>\n",
       "    </tr>\n",
       "    <tr>\n",
       "      <th>...</th>\n",
       "      <td>...</td>\n",
       "    </tr>\n",
       "    <tr>\n",
       "      <th>360</th>\n",
       "      <td>2021-12-27,108,-7.6,-12.9,-3.9</td>\n",
       "    </tr>\n",
       "    <tr>\n",
       "      <th>361</th>\n",
       "      <td>2021-12-28,108,-4.1,-8.5,-0.9</td>\n",
       "    </tr>\n",
       "    <tr>\n",
       "      <th>362</th>\n",
       "      <td>2021-12-29,108,0.4,-3.8,5.9</td>\n",
       "    </tr>\n",
       "    <tr>\n",
       "      <th>363</th>\n",
       "      <td>2021-12-30,108,-3.9,-6.8,0.2</td>\n",
       "    </tr>\n",
       "    <tr>\n",
       "      <th>364</th>\n",
       "      <td>2021-12-31,108,-6.7,-8.8,-3.9</td>\n",
       "    </tr>\n",
       "  </tbody>\n",
       "</table>\n",
       "<p>365 rows × 1 columns</p>\n",
       "</div>"
      ],
      "text/plain": [
       "                                  0\n",
       "0      2021-01-01,108,-4.2,-9.8,1.6\n",
       "1       2021-01-02,108,-5,-8.4,-1.4\n",
       "2       2021-01-03,108,-5.6,-9.1,-2\n",
       "3      2021-01-04,108,-3.5,-8.4,0.3\n",
       "4     2021-01-05,108,-5.5,-9.9,-2.1\n",
       "..                              ...\n",
       "360  2021-12-27,108,-7.6,-12.9,-3.9\n",
       "361   2021-12-28,108,-4.1,-8.5,-0.9\n",
       "362     2021-12-29,108,0.4,-3.8,5.9\n",
       "363    2021-12-30,108,-3.9,-6.8,0.2\n",
       "364   2021-12-31,108,-6.7,-8.8,-3.9\n",
       "\n",
       "[365 rows x 1 columns]"
      ]
     },
     "execution_count": 156,
     "metadata": {},
     "output_type": "execute_result"
    }
   ],
   "source": [
    "df"
   ]
  },
  {
   "cell_type": "code",
   "execution_count": 157,
   "id": "713581c1",
   "metadata": {},
   "outputs": [],
   "source": [
    "li = []\n",
    "for i in range(df.shape[0]):\n",
    "    li.append(str(df.iloc[i,0]))"
   ]
  },
  {
   "cell_type": "markdown",
   "id": "25a35baa",
   "metadata": {},
   "source": [
    "### 일교차가 가장 큰 날"
   ]
  },
  {
   "cell_type": "code",
   "execution_count": 158,
   "id": "59907055",
   "metadata": {},
   "outputs": [
    {
     "name": "stdout",
     "output_type": "stream",
     "text": [
      "110\n"
     ]
    }
   ],
   "source": [
    "temp_diff = []\n",
    "for day in li:\n",
    "    temp_diff.append(abs(float(day.split(\",\")[-1]) - float(day.split(\",\")[-2])))\n",
    "print(temp_diff.index(max(temp_diff)))"
   ]
  },
  {
   "cell_type": "code",
   "execution_count": 159,
   "id": "6e7c1d51",
   "metadata": {},
   "outputs": [
    {
     "name": "stdout",
     "output_type": "stream",
     "text": [
      "일교차가 가장 큰 날\n",
      "2021-04-21\n"
     ]
    }
   ],
   "source": [
    "print(\"일교차가 가장 큰 날\")\n",
    "print(li[110].split(\",\")[0])"
   ]
  },
  {
   "cell_type": "markdown",
   "id": "072c46e7",
   "metadata": {},
   "source": [
    "### 최저 기온이 가장 낮은 날"
   ]
  },
  {
   "cell_type": "code",
   "execution_count": 19,
   "id": "9e3b2c99",
   "metadata": {},
   "outputs": [],
   "source": [
    "lowest = []\n",
    "for day in li:\n",
    "    lowest.append(day.split(\",\")[-2])\n",
    "# print(lowest)"
   ]
  },
  {
   "cell_type": "code",
   "execution_count": 11,
   "id": "ac717168",
   "metadata": {},
   "outputs": [
    {
     "data": {
      "text/plain": [
       "299"
      ]
     },
     "execution_count": 11,
     "metadata": {},
     "output_type": "execute_result"
    }
   ],
   "source": [
    "lowest.index(sorted(lowest)[-1])"
   ]
  },
  {
   "cell_type": "code",
   "execution_count": 20,
   "id": "8b59f356",
   "metadata": {},
   "outputs": [
    {
     "name": "stdout",
     "output_type": "stream",
     "text": [
      "최저 기온이 가장 낮은 날\n",
      "2021-10-27\n"
     ]
    }
   ],
   "source": [
    "print(\"최저 기온이 가장 낮은 날\")\n",
    "print(li[299].split(\",\")[0])"
   ]
  },
  {
   "cell_type": "markdown",
   "id": "d6cb2995",
   "metadata": {},
   "source": [
    "### 최고 기온이 가장 높은 날"
   ]
  },
  {
   "cell_type": "code",
   "execution_count": 21,
   "id": "3836b722",
   "metadata": {},
   "outputs": [],
   "source": [
    "highest = []\n",
    "for day in li:\n",
    "    highest.append(day.split(\",\")[-1])"
   ]
  },
  {
   "cell_type": "code",
   "execution_count": 23,
   "id": "caec68e8",
   "metadata": {},
   "outputs": [
    {
     "data": {
      "text/plain": [
       "14"
      ]
     },
     "execution_count": 23,
     "metadata": {},
     "output_type": "execute_result"
    }
   ],
   "source": [
    "highest.index(max(highest))"
   ]
  },
  {
   "cell_type": "code",
   "execution_count": 25,
   "id": "77729e8e",
   "metadata": {},
   "outputs": [
    {
     "name": "stdout",
     "output_type": "stream",
     "text": [
      "최고 기온이 가장 높은 날\n",
      "2021-01-15\n"
     ]
    }
   ],
   "source": [
    "print(\"최고 기온이 가장 높은 날\")\n",
    "print(li[14].split(\",\")[0])"
   ]
  },
  {
   "cell_type": "markdown",
   "id": "26830f12",
   "metadata": {},
   "source": [
    "## 2. 지하철 이용객"
   ]
  },
  {
   "cell_type": "code",
   "execution_count": 83,
   "id": "bf5ab176",
   "metadata": {
    "scrolled": true
   },
   "outputs": [],
   "source": [
    "file = pd.read_csv(\"C:/Users/samsung-notebook/Desktop/jupyter_notebook/metro.csv\", encoding='euc-kr')"
   ]
  },
  {
   "cell_type": "code",
   "execution_count": 84,
   "id": "ef7a8af4",
   "metadata": {},
   "outputs": [],
   "source": [
    "metro_df = pd.DataFrame(file)[1:]"
   ]
  },
  {
   "cell_type": "code",
   "execution_count": 85,
   "id": "fc3080a7",
   "metadata": {},
   "outputs": [
    {
     "data": {
      "text/html": [
       "<div>\n",
       "<style scoped>\n",
       "    .dataframe tbody tr th:only-of-type {\n",
       "        vertical-align: middle;\n",
       "    }\n",
       "\n",
       "    .dataframe tbody tr th {\n",
       "        vertical-align: top;\n",
       "    }\n",
       "\n",
       "    .dataframe thead th {\n",
       "        text-align: right;\n",
       "    }\n",
       "</style>\n",
       "<table border=\"1\" class=\"dataframe\">\n",
       "  <thead>\n",
       "    <tr style=\"text-align: right;\">\n",
       "      <th></th>\n",
       "      <th>사용월</th>\n",
       "      <th>호선명</th>\n",
       "      <th>역ID</th>\n",
       "      <th>지하철역</th>\n",
       "      <th>승차승객수</th>\n",
       "      <th>하차승객수</th>\n",
       "      <th>작업일시</th>\n",
       "    </tr>\n",
       "  </thead>\n",
       "  <tbody>\n",
       "    <tr>\n",
       "      <th>1</th>\n",
       "      <td>2021-12</td>\n",
       "      <td>1호선</td>\n",
       "      <td>10</td>\n",
       "      <td>동묘앞</td>\n",
       "      <td>235,271</td>\n",
       "      <td>242,269</td>\n",
       "      <td>2022-01-03 10:00:36</td>\n",
       "    </tr>\n",
       "    <tr>\n",
       "      <th>2</th>\n",
       "      <td>2021-12</td>\n",
       "      <td>1호선</td>\n",
       "      <td>2</td>\n",
       "      <td>시청</td>\n",
       "      <td>570,037</td>\n",
       "      <td>569,533</td>\n",
       "      <td>2022-01-03 10:00:36</td>\n",
       "    </tr>\n",
       "    <tr>\n",
       "      <th>3</th>\n",
       "      <td>2021-12</td>\n",
       "      <td>1호선</td>\n",
       "      <td>3</td>\n",
       "      <td>종각</td>\n",
       "      <td>872,179</td>\n",
       "      <td>849,374</td>\n",
       "      <td>2022-01-03 10:00:36</td>\n",
       "    </tr>\n",
       "    <tr>\n",
       "      <th>4</th>\n",
       "      <td>2021-12</td>\n",
       "      <td>1호선</td>\n",
       "      <td>4</td>\n",
       "      <td>종로3가</td>\n",
       "      <td>657,289</td>\n",
       "      <td>609,809</td>\n",
       "      <td>2022-01-03 10:00:36</td>\n",
       "    </tr>\n",
       "    <tr>\n",
       "      <th>5</th>\n",
       "      <td>2021-12</td>\n",
       "      <td>1호선</td>\n",
       "      <td>5</td>\n",
       "      <td>종로5가</td>\n",
       "      <td>579,293</td>\n",
       "      <td>573,290</td>\n",
       "      <td>2022-01-03 10:00:36</td>\n",
       "    </tr>\n",
       "  </tbody>\n",
       "</table>\n",
       "</div>"
      ],
      "text/plain": [
       "       사용월  호선명  역ID  지하철역    승차승객수    하차승객수                 작업일시\n",
       "1  2021-12  1호선   10   동묘앞  235,271  242,269  2022-01-03 10:00:36\n",
       "2  2021-12  1호선    2    시청  570,037  569,533  2022-01-03 10:00:36\n",
       "3  2021-12  1호선    3    종각  872,179  849,374  2022-01-03 10:00:36\n",
       "4  2021-12  1호선    4  종로3가  657,289  609,809  2022-01-03 10:00:36\n",
       "5  2021-12  1호선    5  종로5가  579,293  573,290  2022-01-03 10:00:36"
      ]
     },
     "execution_count": 85,
     "metadata": {},
     "output_type": "execute_result"
    }
   ],
   "source": [
    "metro_df.head()"
   ]
  },
  {
   "cell_type": "code",
   "execution_count": 95,
   "id": "8f4f86c9",
   "metadata": {},
   "outputs": [],
   "source": [
    "user1 = list(metro_df.loc[:,\"승차승객수\"])\n",
    "user2 = list(metro_df.loc[:,\"하차승객수\"])"
   ]
  },
  {
   "cell_type": "code",
   "execution_count": 111,
   "id": "fb108cd7",
   "metadata": {},
   "outputs": [],
   "source": [
    "users = []\n",
    "for i in range(metro_df.shape[0]):\n",
    "    int_user1 = int(user1[i].replace(\",\",\"\"))\n",
    "    int_user2 = int(user2[i].replace(\",\",\"\"))\n",
    "    users.append(int_user1 + int_user2)"
   ]
  },
  {
   "cell_type": "code",
   "execution_count": 112,
   "id": "bec3133f",
   "metadata": {},
   "outputs": [],
   "source": [
    "metro_df[\"total_users\"] = users"
   ]
  },
  {
   "cell_type": "code",
   "execution_count": 113,
   "id": "88f093e3",
   "metadata": {},
   "outputs": [
    {
     "data": {
      "text/html": [
       "<div>\n",
       "<style scoped>\n",
       "    .dataframe tbody tr th:only-of-type {\n",
       "        vertical-align: middle;\n",
       "    }\n",
       "\n",
       "    .dataframe tbody tr th {\n",
       "        vertical-align: top;\n",
       "    }\n",
       "\n",
       "    .dataframe thead th {\n",
       "        text-align: right;\n",
       "    }\n",
       "</style>\n",
       "<table border=\"1\" class=\"dataframe\">\n",
       "  <thead>\n",
       "    <tr style=\"text-align: right;\">\n",
       "      <th></th>\n",
       "      <th>사용월</th>\n",
       "      <th>호선명</th>\n",
       "      <th>역ID</th>\n",
       "      <th>지하철역</th>\n",
       "      <th>승차승객수</th>\n",
       "      <th>하차승객수</th>\n",
       "      <th>작업일시</th>\n",
       "      <th>total_users</th>\n",
       "    </tr>\n",
       "  </thead>\n",
       "  <tbody>\n",
       "    <tr>\n",
       "      <th>1</th>\n",
       "      <td>2021-12</td>\n",
       "      <td>1호선</td>\n",
       "      <td>10</td>\n",
       "      <td>동묘앞</td>\n",
       "      <td>235,271</td>\n",
       "      <td>242,269</td>\n",
       "      <td>2022-01-03 10:00:36</td>\n",
       "      <td>477540</td>\n",
       "    </tr>\n",
       "    <tr>\n",
       "      <th>2</th>\n",
       "      <td>2021-12</td>\n",
       "      <td>1호선</td>\n",
       "      <td>2</td>\n",
       "      <td>시청</td>\n",
       "      <td>570,037</td>\n",
       "      <td>569,533</td>\n",
       "      <td>2022-01-03 10:00:36</td>\n",
       "      <td>1139570</td>\n",
       "    </tr>\n",
       "    <tr>\n",
       "      <th>3</th>\n",
       "      <td>2021-12</td>\n",
       "      <td>1호선</td>\n",
       "      <td>3</td>\n",
       "      <td>종각</td>\n",
       "      <td>872,179</td>\n",
       "      <td>849,374</td>\n",
       "      <td>2022-01-03 10:00:36</td>\n",
       "      <td>1721553</td>\n",
       "    </tr>\n",
       "    <tr>\n",
       "      <th>4</th>\n",
       "      <td>2021-12</td>\n",
       "      <td>1호선</td>\n",
       "      <td>4</td>\n",
       "      <td>종로3가</td>\n",
       "      <td>657,289</td>\n",
       "      <td>609,809</td>\n",
       "      <td>2022-01-03 10:00:36</td>\n",
       "      <td>1267098</td>\n",
       "    </tr>\n",
       "    <tr>\n",
       "      <th>5</th>\n",
       "      <td>2021-12</td>\n",
       "      <td>1호선</td>\n",
       "      <td>5</td>\n",
       "      <td>종로5가</td>\n",
       "      <td>579,293</td>\n",
       "      <td>573,290</td>\n",
       "      <td>2022-01-03 10:00:36</td>\n",
       "      <td>1152583</td>\n",
       "    </tr>\n",
       "    <tr>\n",
       "      <th>...</th>\n",
       "      <td>...</td>\n",
       "      <td>...</td>\n",
       "      <td>...</td>\n",
       "      <td>...</td>\n",
       "      <td>...</td>\n",
       "      <td>...</td>\n",
       "      <td>...</td>\n",
       "      <td>...</td>\n",
       "    </tr>\n",
       "    <tr>\n",
       "      <th>604</th>\n",
       "      <td>2021-12</td>\n",
       "      <td>우이신설선</td>\n",
       "      <td>721</td>\n",
       "      <td>북한산보국문</td>\n",
       "      <td>162,606</td>\n",
       "      <td>153,956</td>\n",
       "      <td>2022-01-03 10:00:36</td>\n",
       "      <td>316562</td>\n",
       "    </tr>\n",
       "    <tr>\n",
       "      <th>605</th>\n",
       "      <td>2021-12</td>\n",
       "      <td>우이신설선</td>\n",
       "      <td>722</td>\n",
       "      <td>정릉</td>\n",
       "      <td>124,880</td>\n",
       "      <td>113,381</td>\n",
       "      <td>2022-01-03 10:00:36</td>\n",
       "      <td>238261</td>\n",
       "    </tr>\n",
       "    <tr>\n",
       "      <th>606</th>\n",
       "      <td>2021-12</td>\n",
       "      <td>우이신설선</td>\n",
       "      <td>723</td>\n",
       "      <td>성신여대입구(돈암)</td>\n",
       "      <td>91,571</td>\n",
       "      <td>101,326</td>\n",
       "      <td>2022-01-03 10:00:36</td>\n",
       "      <td>192897</td>\n",
       "    </tr>\n",
       "    <tr>\n",
       "      <th>607</th>\n",
       "      <td>2021-12</td>\n",
       "      <td>우이신설선</td>\n",
       "      <td>724</td>\n",
       "      <td>보문</td>\n",
       "      <td>41,012</td>\n",
       "      <td>41,211</td>\n",
       "      <td>2022-01-03 10:00:36</td>\n",
       "      <td>82223</td>\n",
       "    </tr>\n",
       "    <tr>\n",
       "      <th>608</th>\n",
       "      <td>2021-12</td>\n",
       "      <td>우이신설선</td>\n",
       "      <td>725</td>\n",
       "      <td>신설동</td>\n",
       "      <td>55,769</td>\n",
       "      <td>54,272</td>\n",
       "      <td>2022-01-03 10:00:36</td>\n",
       "      <td>110041</td>\n",
       "    </tr>\n",
       "  </tbody>\n",
       "</table>\n",
       "<p>608 rows × 8 columns</p>\n",
       "</div>"
      ],
      "text/plain": [
       "         사용월    호선명  역ID        지하철역    승차승객수    하차승객수                 작업일시  \\\n",
       "1    2021-12    1호선   10         동묘앞  235,271  242,269  2022-01-03 10:00:36   \n",
       "2    2021-12    1호선    2          시청  570,037  569,533  2022-01-03 10:00:36   \n",
       "3    2021-12    1호선    3          종각  872,179  849,374  2022-01-03 10:00:36   \n",
       "4    2021-12    1호선    4        종로3가  657,289  609,809  2022-01-03 10:00:36   \n",
       "5    2021-12    1호선    5        종로5가  579,293  573,290  2022-01-03 10:00:36   \n",
       "..       ...    ...  ...         ...      ...      ...                  ...   \n",
       "604  2021-12  우이신설선  721      북한산보국문  162,606  153,956  2022-01-03 10:00:36   \n",
       "605  2021-12  우이신설선  722          정릉  124,880  113,381  2022-01-03 10:00:36   \n",
       "606  2021-12  우이신설선  723  성신여대입구(돈암)   91,571  101,326  2022-01-03 10:00:36   \n",
       "607  2021-12  우이신설선  724          보문   41,012   41,211  2022-01-03 10:00:36   \n",
       "608  2021-12  우이신설선  725         신설동   55,769   54,272  2022-01-03 10:00:36   \n",
       "\n",
       "     total_users  \n",
       "1         477540  \n",
       "2        1139570  \n",
       "3        1721553  \n",
       "4        1267098  \n",
       "5        1152583  \n",
       "..           ...  \n",
       "604       316562  \n",
       "605       238261  \n",
       "606       192897  \n",
       "607        82223  \n",
       "608       110041  \n",
       "\n",
       "[608 rows x 8 columns]"
      ]
     },
     "execution_count": 113,
     "metadata": {},
     "output_type": "execute_result"
    }
   ],
   "source": [
    "metro_df"
   ]
  },
  {
   "cell_type": "code",
   "execution_count": 129,
   "id": "084998c0",
   "metadata": {},
   "outputs": [],
   "source": [
    "highest_df = metro_df.sort_values(\"total_users\", ascending=False)\n",
    "lowest_df = metro_df.sort_values(\"total_users\")"
   ]
  },
  {
   "cell_type": "code",
   "execution_count": 131,
   "id": "17c6136c",
   "metadata": {},
   "outputs": [
    {
     "data": {
      "text/html": [
       "<div>\n",
       "<style scoped>\n",
       "    .dataframe tbody tr th:only-of-type {\n",
       "        vertical-align: middle;\n",
       "    }\n",
       "\n",
       "    .dataframe tbody tr th {\n",
       "        vertical-align: top;\n",
       "    }\n",
       "\n",
       "    .dataframe thead th {\n",
       "        text-align: right;\n",
       "    }\n",
       "</style>\n",
       "<table border=\"1\" class=\"dataframe\">\n",
       "  <thead>\n",
       "    <tr style=\"text-align: right;\">\n",
       "      <th></th>\n",
       "      <th>사용월</th>\n",
       "      <th>호선명</th>\n",
       "      <th>역ID</th>\n",
       "      <th>지하철역</th>\n",
       "      <th>승차승객수</th>\n",
       "      <th>하차승객수</th>\n",
       "      <th>작업일시</th>\n",
       "      <th>total_users</th>\n",
       "    </tr>\n",
       "  </thead>\n",
       "  <tbody>\n",
       "    <tr>\n",
       "      <th>31</th>\n",
       "      <td>2021-12</td>\n",
       "      <td>2호선</td>\n",
       "      <td>32</td>\n",
       "      <td>강남</td>\n",
       "      <td>2,193,108</td>\n",
       "      <td>2,171,328</td>\n",
       "      <td>2022-01-03 10:00:36</td>\n",
       "      <td>4364436</td>\n",
       "    </tr>\n",
       "    <tr>\n",
       "      <th>25</th>\n",
       "      <td>2021-12</td>\n",
       "      <td>2호선</td>\n",
       "      <td>26</td>\n",
       "      <td>잠실(송파구청)</td>\n",
       "      <td>1,976,472</td>\n",
       "      <td>1,951,450</td>\n",
       "      <td>2022-01-03 10:00:36</td>\n",
       "      <td>3927922</td>\n",
       "    </tr>\n",
       "    <tr>\n",
       "      <th>39</th>\n",
       "      <td>2021-12</td>\n",
       "      <td>2호선</td>\n",
       "      <td>40</td>\n",
       "      <td>신림</td>\n",
       "      <td>1,733,842</td>\n",
       "      <td>1,678,357</td>\n",
       "      <td>2022-01-03 10:00:36</td>\n",
       "      <td>3412199</td>\n",
       "    </tr>\n",
       "  </tbody>\n",
       "</table>\n",
       "</div>"
      ],
      "text/plain": [
       "        사용월  호선명  역ID      지하철역      승차승객수      하차승객수                 작업일시  \\\n",
       "31  2021-12  2호선   32        강남  2,193,108  2,171,328  2022-01-03 10:00:36   \n",
       "25  2021-12  2호선   26  잠실(송파구청)  1,976,472  1,951,450  2022-01-03 10:00:36   \n",
       "39  2021-12  2호선   40        신림  1,733,842  1,678,357  2022-01-03 10:00:36   \n",
       "\n",
       "    total_users  \n",
       "31      4364436  \n",
       "25      3927922  \n",
       "39      3412199  "
      ]
     },
     "execution_count": 131,
     "metadata": {},
     "output_type": "execute_result"
    }
   ],
   "source": [
    "highest_df.head(3)"
   ]
  },
  {
   "cell_type": "code",
   "execution_count": 132,
   "id": "71cf59b3",
   "metadata": {},
   "outputs": [
    {
     "data": {
      "text/html": [
       "<div>\n",
       "<style scoped>\n",
       "    .dataframe tbody tr th:only-of-type {\n",
       "        vertical-align: middle;\n",
       "    }\n",
       "\n",
       "    .dataframe tbody tr th {\n",
       "        vertical-align: top;\n",
       "    }\n",
       "\n",
       "    .dataframe thead th {\n",
       "        text-align: right;\n",
       "    }\n",
       "</style>\n",
       "<table border=\"1\" class=\"dataframe\">\n",
       "  <thead>\n",
       "    <tr style=\"text-align: right;\">\n",
       "      <th></th>\n",
       "      <th>사용월</th>\n",
       "      <th>호선명</th>\n",
       "      <th>역ID</th>\n",
       "      <th>지하철역</th>\n",
       "      <th>승차승객수</th>\n",
       "      <th>하차승객수</th>\n",
       "      <th>작업일시</th>\n",
       "      <th>total_users</th>\n",
       "    </tr>\n",
       "  </thead>\n",
       "  <tbody>\n",
       "    <tr>\n",
       "      <th>331</th>\n",
       "      <td>2021-12</td>\n",
       "      <td>경의선</td>\n",
       "      <td>204</td>\n",
       "      <td>검암</td>\n",
       "      <td>2</td>\n",
       "      <td>0</td>\n",
       "      <td>2022-01-03 10:00:36</td>\n",
       "      <td>2</td>\n",
       "    </tr>\n",
       "    <tr>\n",
       "      <th>330</th>\n",
       "      <td>2021-12</td>\n",
       "      <td>경의선</td>\n",
       "      <td>203</td>\n",
       "      <td>계양</td>\n",
       "      <td>8</td>\n",
       "      <td>0</td>\n",
       "      <td>2022-01-03 10:00:36</td>\n",
       "      <td>8</td>\n",
       "    </tr>\n",
       "    <tr>\n",
       "      <th>192</th>\n",
       "      <td>2021-12</td>\n",
       "      <td>경원선</td>\n",
       "      <td>142</td>\n",
       "      <td>창동</td>\n",
       "      <td>8</td>\n",
       "      <td>0</td>\n",
       "      <td>2022-01-03 10:00:36</td>\n",
       "      <td>8</td>\n",
       "    </tr>\n",
       "  </tbody>\n",
       "</table>\n",
       "</div>"
      ],
      "text/plain": [
       "         사용월  호선명  역ID 지하철역 승차승객수 하차승객수                 작업일시  total_users\n",
       "331  2021-12  경의선  204   검암     2     0  2022-01-03 10:00:36            2\n",
       "330  2021-12  경의선  203   계양     8     0  2022-01-03 10:00:36            8\n",
       "192  2021-12  경원선  142   창동     8     0  2022-01-03 10:00:36            8"
      ]
     },
     "execution_count": 132,
     "metadata": {},
     "output_type": "execute_result"
    }
   ],
   "source": [
    "lowest_df.head(3)"
   ]
  },
  {
   "cell_type": "code",
   "execution_count": 135,
   "id": "d179f7f7",
   "metadata": {},
   "outputs": [],
   "source": [
    "highest_users = list(highest_df.loc[:,\"지하철역\"])\n",
    "highest_count = list(highest_df.loc[:, \"total_users\"])\n",
    "\n",
    "lowest_users = list(lowest_df.loc[:,\"지하철역\"])\n",
    "lowest_count = list(lowest_df.loc[:, \"total_users\"])"
   ]
  },
  {
   "cell_type": "code",
   "execution_count": 143,
   "id": "d534eab4",
   "metadata": {},
   "outputs": [
    {
     "name": "stdout",
     "output_type": "stream",
     "text": [
      "이용객이 가장 많은 역 순위\n",
      "1. 강남 4364436\n",
      "2. 잠실(송파구청) 3927922\n",
      "3. 신림 3412199\n"
     ]
    }
   ],
   "source": [
    "print(\"이용객이 가장 많은 역 순위\")\n",
    "for i, (user, count) in enumerate(zip(highest_users[:3], highest_count[:3])):\n",
    "    print(str(i+1)+\".\", user, count)"
   ]
  },
  {
   "cell_type": "code",
   "execution_count": 144,
   "id": "d205ec39",
   "metadata": {},
   "outputs": [
    {
     "name": "stdout",
     "output_type": "stream",
     "text": [
      "이용객이 가장 적은 역 순위\n",
      "1. 검암 2\n",
      "2. 계양 8\n",
      "3. 창동 8\n"
     ]
    }
   ],
   "source": [
    "print(\"이용객이 가장 적은 역 순위\")\n",
    "for i, (user, count) in enumerate(zip(lowest_users[:3], lowest_count[:3])):\n",
    "    print(str(i+1)+\".\", user, count)"
   ]
  },
  {
   "cell_type": "code",
   "execution_count": null,
   "id": "e2c9bf04",
   "metadata": {},
   "outputs": [],
   "source": []
  }
 ],
 "metadata": {
  "kernelspec": {
   "display_name": "Python 3",
   "language": "python",
   "name": "python3"
  },
  "language_info": {
   "codemirror_mode": {
    "name": "ipython",
    "version": 3
   },
   "file_extension": ".py",
   "mimetype": "text/x-python",
   "name": "python",
   "nbconvert_exporter": "python",
   "pygments_lexer": "ipython3",
   "version": "3.8.8"
  }
 },
 "nbformat": 4,
 "nbformat_minor": 5
}
