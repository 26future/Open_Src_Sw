{
 "cells": [
  {
   "cell_type": "markdown",
   "id": "5ade1ca4",
   "metadata": {},
   "source": [
    "### 문제 1"
   ]
  },
  {
   "cell_type": "code",
   "execution_count": 1,
   "id": "4272ec59",
   "metadata": {},
   "outputs": [],
   "source": [
    "text = \"파이썬 파일 읽기 예제입니다. 다양한 메소드를 공부해 보세요. 실력이 팍팍 늘 거예요~ 단어 수를 카운트하는 파이썬 파일 읽기 실습 예제입니다.\""
   ]
  },
  {
   "cell_type": "code",
   "execution_count": 2,
   "id": "a2462cdb",
   "metadata": {},
   "outputs": [
    {
     "name": "stdout",
     "output_type": "stream",
     "text": [
      "['파이썬', '파일', '읽기', '예제입니다.', '다양한', '메소드를', '공부해', '보세요.', '실력이', '팍팍', '늘', '거예요~', '단어', '수를', '카운트하는', '파이썬', '파일', '읽기', '실습', '예제입니다.']\n"
     ]
    }
   ],
   "source": [
    "text = text.strip().split(\" \")\n",
    "print(text)"
   ]
  },
  {
   "cell_type": "code",
   "execution_count": 11,
   "id": "0ab10f71",
   "metadata": {},
   "outputs": [],
   "source": [
    "words = {}\n",
    "for word in text:\n",
    "    words[word] = text.count(word)"
   ]
  },
  {
   "cell_type": "code",
   "execution_count": 13,
   "id": "020b8627",
   "metadata": {
    "scrolled": true
   },
   "outputs": [
    {
     "name": "stdout",
     "output_type": "stream",
     "text": [
      "파이썬 2\n",
      "파일 2\n",
      "읽기 2\n",
      "예제입니다. 2\n",
      "다양한 1\n",
      "메소드를 1\n",
      "공부해 1\n",
      "보세요. 1\n",
      "실력이 1\n",
      "팍팍 1\n",
      "늘 1\n",
      "거예요~ 1\n",
      "단어 1\n",
      "수를 1\n",
      "카운트하는 1\n",
      "실습 1\n"
     ]
    }
   ],
   "source": [
    "for word in words:\n",
    "    print(word, words[word])"
   ]
  },
  {
   "cell_type": "markdown",
   "id": "79f06504",
   "metadata": {},
   "source": [
    "### 문제 2"
   ]
  },
  {
   "cell_type": "code",
   "execution_count": 45,
   "id": "c1ea5917",
   "metadata": {},
   "outputs": [],
   "source": [
    "class Point():\n",
    "    def __init__(self, x, y):\n",
    "        self.x = x\n",
    "        self.y = y\n",
    "        \n",
    "    def move(self, dx, dy):\n",
    "        self.x += dx\n",
    "        self.y += dy\n",
    "        \n",
    "    def show(self):\n",
    "        print(\"({0:d}, {1:d})\".format(self.x, self.y))"
   ]
  },
  {
   "cell_type": "code",
   "execution_count": 49,
   "id": "3147215a",
   "metadata": {},
   "outputs": [],
   "source": [
    "class Box(Point):\n",
    "    def __init__(self, p1, p2):\n",
    "        self.p1 = p1\n",
    "        self.p2 = p2\n",
    "        \n",
    "    def move(self, dx, dy):\n",
    "        self.p1.move(dx, dy)\n",
    "        self.p2.move(dx, dy)\n",
    "    \n",
    "    def show(self):\n",
    "        self.p1.show()\n",
    "        self.p2.show()  "
   ]
  },
  {
   "cell_type": "code",
   "execution_count": 50,
   "id": "a68327b5",
   "metadata": {},
   "outputs": [
    {
     "name": "stdout",
     "output_type": "stream",
     "text": [
      "(1, 2)\n",
      "(3, 4)\n",
      "(2, 3)\n",
      "(4, 5)\n"
     ]
    }
   ],
   "source": [
    "p1 = Point(1, 2)\n",
    "p2 = Point(3, 4)\n",
    "p1.show()\n",
    "p2.show()\n",
    "\n",
    "b = Box(p1, p2)\n",
    "b.move(1,1)\n",
    "b.show()"
   ]
  },
  {
   "cell_type": "code",
   "execution_count": null,
   "id": "4bca0b51",
   "metadata": {},
   "outputs": [],
   "source": []
  }
 ],
 "metadata": {
  "kernelspec": {
   "display_name": "Python 3",
   "language": "python",
   "name": "python3"
  },
  "language_info": {
   "codemirror_mode": {
    "name": "ipython",
    "version": 3
   },
   "file_extension": ".py",
   "mimetype": "text/x-python",
   "name": "python",
   "nbconvert_exporter": "python",
   "pygments_lexer": "ipython3",
   "version": "3.8.8"
  }
 },
 "nbformat": 4,
 "nbformat_minor": 5
}
