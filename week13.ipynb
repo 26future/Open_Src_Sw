{
 "cells": [
  {
   "cell_type": "code",
   "execution_count": 5,
   "id": "c0a707f0",
   "metadata": {},
   "outputs": [],
   "source": [
    "import numpy as np\n",
    "import matplotlib"
   ]
  },
  {
   "cell_type": "code",
   "execution_count": 3,
   "id": "e6e164e3",
   "metadata": {},
   "outputs": [],
   "source": [
    "import matplotlib.pyplot as plt"
   ]
  },
  {
   "cell_type": "markdown",
   "id": "a50b7fb6",
   "metadata": {},
   "source": [
    "### 문제 1"
   ]
  },
  {
   "cell_type": "code",
   "execution_count": 14,
   "id": "5338cf9d",
   "metadata": {},
   "outputs": [
    {
     "data": {
      "image/png": "[encoded data removed]",
      "text/plain": [
       "<Figure size 432x288 with 1 Axes>"
      ]
     },
     "metadata": {
      "needs_background": "light"
     },
     "output_type": "display_data"
    }
   ],
   "source": [
    "x_range = np.linspace(-np.pi, np.pi, num=150)\n",
    "plt.plot(x_range, np.sin(x_range))\n",
    "plt.xlabel('x')\n",
    "plt.ylabel('sin(x)')\n",
    "plt.show()"
   ]
  },
  {
   "cell_type": "markdown",
   "id": "4bfcf6f5",
   "metadata": {},
   "source": [
    "### 문제 2"
   ]
  },
  {
   "cell_type": "code",
   "execution_count": 54,
   "id": "1fbe12a5",
   "metadata": {},
   "outputs": [],
   "source": [
    "from numpy.linalg import norm"
   ]
  },
  {
   "cell_type": "code",
   "execution_count": 63,
   "id": "9b2e4e0a",
   "metadata": {},
   "outputs": [],
   "source": [
    "Docs = [[1,1,0,1,0,1],[1,1,1,0,1,0],[1,1,0,1,0,0]]\n",
    "Query = np.array([1,1,0,0,1,0])"
   ]
  },
  {
   "cell_type": "code",
   "execution_count": 64,
   "id": "f5d3bd9d",
   "metadata": {},
   "outputs": [
    {
     "name": "stdout",
     "output_type": "stream",
     "text": [
      "[2.0, 2.0, 1.7320508075688772]\n"
     ]
    }
   ],
   "source": [
    "Doc_norms = []\n",
    "for Doc in Docs:\n",
    "    Doc_norms.append(norm(Doc))\n",
    "print(Doc_norms)"
   ]
  },
  {
   "cell_type": "code",
   "execution_count": 65,
   "id": "7c89906e",
   "metadata": {},
   "outputs": [
    {
     "name": "stdout",
     "output_type": "stream",
     "text": [
      "[0.5773502691896258, 0.8660254037844387, 0.6666666666666667]\n"
     ]
    }
   ],
   "source": [
    "similarities = []\n",
    "for Doc, Doc_norm in zip(Docs, Doc_norms):\n",
    "    cos_sim = np.inner(Doc, Query) / (Doc_norm * norm(Query))\n",
    "    similarities.append(cos_sim)\n",
    "print(similarities)"
   ]
  },
  {
   "cell_type": "code",
   "execution_count": 76,
   "id": "82625a9e",
   "metadata": {},
   "outputs": [
    {
     "data": {
      "image/png": "[encoded data removed]",
      "text/plain": [
       "<Figure size 432x288 with 1 Axes>"
      ]
     },
     "metadata": {
      "needs_background": "light"
     },
     "output_type": "display_data"
    }
   ],
   "source": [
    "docs = [\"doc1\", \"doc2\", \"doc3\"]\n",
    "similarities = [round(sim,2) for sim in similarities]\n",
    "\n",
    "x_data = []\n",
    "for doc, sim in zip(docs, similarities):\n",
    "    x_data.append(str(doc)+\"=\"+str(sim))\n",
    "\n",
    "x = np.arange(3)\n",
    "plt.bar(x, similarities)\n",
    "plt.xticks(x, x_data)\n",
    "\n",
    "plt.show()"
   ]
  },
  {
   "cell_type": "code",
   "execution_count": null,
   "id": "d2f23bff",
   "metadata": {},
   "outputs": [],
   "source": []
  }
 ],
 "metadata": {
  "kernelspec": {
   "display_name": "Python 3",
   "language": "python",
   "name": "python3"
  },
  "language_info": {
   "codemirror_mode": {
    "name": "ipython",
    "version": 3
   },
   "file_extension": ".py",
   "mimetype": "text/x-python",
   "name": "python",
   "nbconvert_exporter": "python",
   "pygments_lexer": "ipython3",
   "version": "3.8.8"
  }
 },
 "nbformat": 4,
 "nbformat_minor": 5
}
