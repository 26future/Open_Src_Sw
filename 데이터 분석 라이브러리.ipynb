{
 "cells": [
  {
   "cell_type": "markdown",
   "id": "21c11aaa",
   "metadata": {},
   "source": [
    "## numpy array 생성"
   ]
  },
  {
   "cell_type": "code",
   "execution_count": 2,
   "id": "a52e5224",
   "metadata": {},
   "outputs": [],
   "source": [
    "import numpy as np"
   ]
  },
  {
   "cell_type": "code",
   "execution_count": 3,
   "id": "eed681cb",
   "metadata": {},
   "outputs": [
    {
     "name": "stdout",
     "output_type": "stream",
     "text": [
      "<class 'list'> [1, 2, 3, 4]\n"
     ]
    }
   ],
   "source": [
    "a = [1,2,3,4]\n",
    "print(type(a), a)"
   ]
  },
  {
   "cell_type": "code",
   "execution_count": 4,
   "id": "ef7b5e7e",
   "metadata": {},
   "outputs": [
    {
     "name": "stdout",
     "output_type": "stream",
     "text": [
      "<class 'numpy.ndarray'> [1 2 3 4]\n"
     ]
    }
   ],
   "source": [
    "b = np.array(a)\n",
    "print(type(b), b)"
   ]
  },
  {
   "cell_type": "code",
   "execution_count": 5,
   "id": "2049c1c2",
   "metadata": {},
   "outputs": [
    {
     "name": "stdout",
     "output_type": "stream",
     "text": [
      "2 4 [2 3 4] [1 3]\n"
     ]
    }
   ],
   "source": [
    "a = np.array([1,2,3,4])\n",
    "print(a[1], a[-1], a[1:], a[::2])"
   ]
  },
  {
   "cell_type": "markdown",
   "id": "6f568258",
   "metadata": {},
   "source": [
    "## 대표적인 numpy 메소드"
   ]
  },
  {
   "cell_type": "code",
   "execution_count": 6,
   "id": "210eb871",
   "metadata": {},
   "outputs": [
    {
     "name": "stdout",
     "output_type": "stream",
     "text": [
      "[0 1 2 3 4 5 6 7 8 9]\n",
      "[1 3 5 7 9]\n",
      "[1.  1.1 1.2 1.3 1.4 1.5 1.6 1.7 1.8 1.9]\n"
     ]
    }
   ],
   "source": [
    "print(np.arange(10))\n",
    "print(np.arange(1,10,2))\n",
    "print(np.arange(1,2,0.1))"
   ]
  },
  {
   "cell_type": "code",
   "execution_count": 7,
   "id": "69d51c8a",
   "metadata": {},
   "outputs": [
    {
     "name": "stdout",
     "output_type": "stream",
     "text": [
      "[0. 0.]\n",
      "[1. 1.]\n",
      "[[1. 0.]\n",
      " [0. 1.]]\n"
     ]
    }
   ],
   "source": [
    "print(np.zeros(2))\n",
    "print(np.ones(2))\n",
    "print(np.eye(2))"
   ]
  },
  {
   "cell_type": "code",
   "execution_count": 9,
   "id": "43a32e9a",
   "metadata": {},
   "outputs": [
    {
     "name": "stdout",
     "output_type": "stream",
     "text": [
      "1.4142135623730951\n",
      "3.141592653589793\n",
      "1.0\n",
      "1.0\n"
     ]
    }
   ],
   "source": [
    "print(np.sqrt(2))\n",
    "print(np.pi)\n",
    "print(np.sin(np.pi/2))\n",
    "print(np.cos(0))"
   ]
  },
  {
   "cell_type": "code",
   "execution_count": 10,
   "id": "5a033dce",
   "metadata": {},
   "outputs": [
    {
     "name": "stdout",
     "output_type": "stream",
     "text": [
      "[-0.27451844 -1.20605235  0.06163136 -0.51064044 -1.65851177]\n",
      "[6 2 5 0 0]\n"
     ]
    }
   ],
   "source": [
    "print(np.random.randn(5))\n",
    "print(np.random.choice(10,5))"
   ]
  },
  {
   "cell_type": "markdown",
   "id": "a4a57b8c",
   "metadata": {},
   "source": [
    "## n차원 행렬 만들기"
   ]
  },
  {
   "cell_type": "code",
   "execution_count": 11,
   "id": "ee5bb18f",
   "metadata": {},
   "outputs": [
    {
     "name": "stdout",
     "output_type": "stream",
     "text": [
      "[[0 1 2 3 4]\n",
      " [5 6 7 8 9]]\n",
      "(2, 5)\n",
      "2\n",
      "10\n"
     ]
    }
   ],
   "source": [
    "a = np.arange(10).reshape(2,5)\n",
    "print(a)\n",
    "\n",
    "print(a.shape)\n",
    "print(a.ndim)\n",
    "print(a.size)"
   ]
  },
  {
   "cell_type": "code",
   "execution_count": 12,
   "id": "8c634955",
   "metadata": {},
   "outputs": [
    {
     "name": "stdout",
     "output_type": "stream",
     "text": [
      "[[0 1 2 3 4]\n",
      " [5 6 7 8 9]]\n",
      "7\n",
      "3\n"
     ]
    }
   ],
   "source": [
    "a = np.arange(10).reshape(2,5)\n",
    "print(a)\n",
    "\n",
    "print(a[1,2])\n",
    "print(a[(0,3)])"
   ]
  },
  {
   "cell_type": "markdown",
   "id": "cbbec2f5",
   "metadata": {},
   "source": [
    "## 행렬 연산"
   ]
  },
  {
   "cell_type": "code",
   "execution_count": 14,
   "id": "e8792bc7",
   "metadata": {},
   "outputs": [
    {
     "name": "stdout",
     "output_type": "stream",
     "text": [
      "[[1 2 3]\n",
      " [3 2 5]]\n",
      "[[-1  3  5]\n",
      " [ 1  4  2]]\n",
      "\n",
      "[[0 5 8]\n",
      " [4 6 7]]\n",
      "[[ 2 -1 -2]\n",
      " [ 2 -2  3]]\n",
      "[[-1  6 15]\n",
      " [ 3  8 10]]\n",
      "[[-1.          0.66666667  0.6       ]\n",
      " [ 3.          0.5         2.5       ]]\n"
     ]
    }
   ],
   "source": [
    "a = np.array([[1,2,3],[3,2,5]])\n",
    "b = np.array([[-1,3,5],[1,4,2]])\n",
    "print(a)\n",
    "print(b)\n",
    "print()\n",
    "print(a+b)\n",
    "print(a-b)\n",
    "print(a*b)\n",
    "print(a/b)"
   ]
  },
  {
   "cell_type": "code",
   "execution_count": 15,
   "id": "7de19d20",
   "metadata": {},
   "outputs": [
    {
     "name": "stdout",
     "output_type": "stream",
     "text": [
      "[[20 15]\n",
      " [28 21]]\n",
      "[[ 2 15 11]\n",
      " [ 0 14 14]\n",
      " [ 2 29 25]]\n"
     ]
    }
   ],
   "source": [
    "c = np.dot(a,b.transpose())\n",
    "print(c)\n",
    "\n",
    "d = np.dot(a.T,b)\n",
    "print(d)"
   ]
  },
  {
   "cell_type": "code",
   "execution_count": 16,
   "id": "fa108ba3",
   "metadata": {},
   "outputs": [
    {
     "name": "stdout",
     "output_type": "stream",
     "text": [
      "[2. 2. 2. 2. 2.]\n",
      "[-1. -1. -1. -1. -1.]\n"
     ]
    }
   ],
   "source": [
    "a = np.zeros(5) + 2\n",
    "print(a)\n",
    "\n",
    "b = np.ones(5) - 2\n",
    "print(b)"
   ]
  },
  {
   "cell_type": "code",
   "execution_count": 17,
   "id": "ac77079b",
   "metadata": {},
   "outputs": [
    {
     "name": "stdout",
     "output_type": "stream",
     "text": [
      "[-3 -2 -1  0  1  2]\n",
      "[ True  True  True False False False]\n",
      "[-3 -2 -1]\n",
      "[-3]\n"
     ]
    }
   ],
   "source": [
    "a = np.arange(-3, 3)\n",
    "print(a)\n",
    "print(a<0)\n",
    "print(a[a<0])\n",
    "print(a[abs(a)>2])"
   ]
  },
  {
   "cell_type": "markdown",
   "id": "4a64a3a4",
   "metadata": {},
   "source": [
    "## 데이터 프레임 만들기"
   ]
  },
  {
   "cell_type": "code",
   "execution_count": 18,
   "id": "c64ee20a",
   "metadata": {},
   "outputs": [],
   "source": [
    "import pandas as pd"
   ]
  },
  {
   "cell_type": "code",
   "execution_count": 20,
   "id": "80fe9429",
   "metadata": {},
   "outputs": [
    {
     "data": {
      "text/html": [
       "<div>\n",
       "<style scoped>\n",
       "    .dataframe tbody tr th:only-of-type {\n",
       "        vertical-align: middle;\n",
       "    }\n",
       "\n",
       "    .dataframe tbody tr th {\n",
       "        vertical-align: top;\n",
       "    }\n",
       "\n",
       "    .dataframe thead th {\n",
       "        text-align: right;\n",
       "    }\n",
       "</style>\n",
       "<table border=\"1\" class=\"dataframe\">\n",
       "  <thead>\n",
       "    <tr style=\"text-align: right;\">\n",
       "      <th></th>\n",
       "      <th>price</th>\n",
       "      <th>num</th>\n",
       "    </tr>\n",
       "  </thead>\n",
       "  <tbody>\n",
       "    <tr>\n",
       "      <th>m1</th>\n",
       "      <td>-0.437169</td>\n",
       "      <td>0.129002</td>\n",
       "    </tr>\n",
       "    <tr>\n",
       "      <th>m2</th>\n",
       "      <td>1.414006</td>\n",
       "      <td>0.767042</td>\n",
       "    </tr>\n",
       "    <tr>\n",
       "      <th>m3</th>\n",
       "      <td>-0.642720</td>\n",
       "      <td>-0.544914</td>\n",
       "    </tr>\n",
       "  </tbody>\n",
       "</table>\n",
       "</div>"
      ],
      "text/plain": [
       "       price       num\n",
       "m1 -0.437169  0.129002\n",
       "m2  1.414006  0.767042\n",
       "m3 -0.642720 -0.544914"
      ]
     },
     "execution_count": 20,
     "metadata": {},
     "output_type": "execute_result"
    }
   ],
   "source": [
    "df = pd.DataFrame(np.random.randn(3,2), index=['m1','m2','m3'], columns=['price','num'])\n",
    "df"
   ]
  },
  {
   "cell_type": "markdown",
   "id": "5f97a67e",
   "metadata": {},
   "source": [
    "## 특정 열 접근 및 마스킹"
   ]
  },
  {
   "cell_type": "code",
   "execution_count": 22,
   "id": "f11a8846",
   "metadata": {},
   "outputs": [
    {
     "name": "stdout",
     "output_type": "stream",
     "text": [
      "       price       num\n",
      "m1 -0.437169  0.129002\n",
      "m2  1.414006  0.767042\n",
      "m3 -0.642720 -0.544914 \n",
      "\n",
      "m1    0.129002\n",
      "m2    0.767042\n",
      "m3   -0.544914\n",
      "Name: num, dtype: float64 \n",
      "\n",
      "m1    False\n",
      "m2     True\n",
      "m3    False\n",
      "Name: num, dtype: bool \n",
      "\n",
      "       price       num\n",
      "m2  1.414006  0.767042\n"
     ]
    }
   ],
   "source": [
    "print(df, '\\n')\n",
    "print(df['num'], '\\n')\n",
    "print(df['num']>0.5, '\\n')\n",
    "\n",
    "df2 = df[df['num']>0.5]\n",
    "print(df2)"
   ]
  },
  {
   "cell_type": "markdown",
   "id": "02450315",
   "metadata": {},
   "source": [
    "## 행과 열 전치"
   ]
  },
  {
   "cell_type": "code",
   "execution_count": 25,
   "id": "03b99fe0",
   "metadata": {},
   "outputs": [
    {
     "data": {
      "text/html": [
       "<div>\n",
       "<style scoped>\n",
       "    .dataframe tbody tr th:only-of-type {\n",
       "        vertical-align: middle;\n",
       "    }\n",
       "\n",
       "    .dataframe tbody tr th {\n",
       "        vertical-align: top;\n",
       "    }\n",
       "\n",
       "    .dataframe thead th {\n",
       "        text-align: right;\n",
       "    }\n",
       "</style>\n",
       "<table border=\"1\" class=\"dataframe\">\n",
       "  <thead>\n",
       "    <tr style=\"text-align: right;\">\n",
       "      <th></th>\n",
       "      <th>m1</th>\n",
       "      <th>m2</th>\n",
       "      <th>m3</th>\n",
       "    </tr>\n",
       "  </thead>\n",
       "  <tbody>\n",
       "    <tr>\n",
       "      <th>price</th>\n",
       "      <td>0.791079</td>\n",
       "      <td>0.493072</td>\n",
       "      <td>0.549979</td>\n",
       "    </tr>\n",
       "    <tr>\n",
       "      <th>num</th>\n",
       "      <td>1.408990</td>\n",
       "      <td>-0.142039</td>\n",
       "      <td>-1.605707</td>\n",
       "    </tr>\n",
       "  </tbody>\n",
       "</table>\n",
       "</div>"
      ],
      "text/plain": [
       "             m1        m2        m3\n",
       "price  0.791079  0.493072  0.549979\n",
       "num    1.408990 -0.142039 -1.605707"
      ]
     },
     "execution_count": 25,
     "metadata": {},
     "output_type": "execute_result"
    }
   ],
   "source": [
    "df = pd.DataFrame(np.random.randn(3,2), index=['m1','m2','m3'], columns=['price', 'num'])\n",
    "df.T"
   ]
  },
  {
   "cell_type": "markdown",
   "id": "282eb4c4",
   "metadata": {},
   "source": [
    "## 컬럼 간 연산"
   ]
  },
  {
   "cell_type": "code",
   "execution_count": 26,
   "id": "4de19721",
   "metadata": {},
   "outputs": [
    {
     "data": {
      "text/html": [
       "<div>\n",
       "<style scoped>\n",
       "    .dataframe tbody tr th:only-of-type {\n",
       "        vertical-align: middle;\n",
       "    }\n",
       "\n",
       "    .dataframe tbody tr th {\n",
       "        vertical-align: top;\n",
       "    }\n",
       "\n",
       "    .dataframe thead th {\n",
       "        text-align: right;\n",
       "    }\n",
       "</style>\n",
       "<table border=\"1\" class=\"dataframe\">\n",
       "  <thead>\n",
       "    <tr style=\"text-align: right;\">\n",
       "      <th></th>\n",
       "      <th>price</th>\n",
       "      <th>num</th>\n",
       "      <th>rate</th>\n",
       "    </tr>\n",
       "  </thead>\n",
       "  <tbody>\n",
       "    <tr>\n",
       "      <th>m1</th>\n",
       "      <td>0.816594</td>\n",
       "      <td>0.151650</td>\n",
       "      <td>5.384725</td>\n",
       "    </tr>\n",
       "    <tr>\n",
       "      <th>m2</th>\n",
       "      <td>0.839122</td>\n",
       "      <td>0.939220</td>\n",
       "      <td>0.893424</td>\n",
       "    </tr>\n",
       "    <tr>\n",
       "      <th>m3</th>\n",
       "      <td>0.467214</td>\n",
       "      <td>1.926836</td>\n",
       "      <td>0.242477</td>\n",
       "    </tr>\n",
       "  </tbody>\n",
       "</table>\n",
       "</div>"
      ],
      "text/plain": [
       "       price       num      rate\n",
       "m1  0.816594  0.151650  5.384725\n",
       "m2  0.839122  0.939220  0.893424\n",
       "m3  0.467214  1.926836  0.242477"
      ]
     },
     "execution_count": 26,
     "metadata": {},
     "output_type": "execute_result"
    }
   ],
   "source": [
    "df = pd.DataFrame(np.random.randn(3,2), index=['m1','m2','m3'], columns=['price', 'num'])\n",
    "df['rate'] = df['price']/df['num']\n",
    "df"
   ]
  },
  {
   "cell_type": "markdown",
   "id": "6bb1e06c",
   "metadata": {},
   "source": [
    "## 인덱스(행) 내 연산"
   ]
  },
  {
   "cell_type": "code",
   "execution_count": 28,
   "id": "3d67d78e",
   "metadata": {},
   "outputs": [
    {
     "data": {
      "text/html": [
       "<div>\n",
       "<style scoped>\n",
       "    .dataframe tbody tr th:only-of-type {\n",
       "        vertical-align: middle;\n",
       "    }\n",
       "\n",
       "    .dataframe tbody tr th {\n",
       "        vertical-align: top;\n",
       "    }\n",
       "\n",
       "    .dataframe thead th {\n",
       "        text-align: right;\n",
       "    }\n",
       "</style>\n",
       "<table border=\"1\" class=\"dataframe\">\n",
       "  <thead>\n",
       "    <tr style=\"text-align: right;\">\n",
       "      <th></th>\n",
       "      <th>price</th>\n",
       "      <th>num</th>\n",
       "      <th>sum</th>\n",
       "    </tr>\n",
       "  </thead>\n",
       "  <tbody>\n",
       "    <tr>\n",
       "      <th>m1</th>\n",
       "      <td>1.590966</td>\n",
       "      <td>0.040047</td>\n",
       "      <td>1.631013</td>\n",
       "    </tr>\n",
       "    <tr>\n",
       "      <th>m2</th>\n",
       "      <td>0.071088</td>\n",
       "      <td>0.655586</td>\n",
       "      <td>0.726674</td>\n",
       "    </tr>\n",
       "    <tr>\n",
       "      <th>m3</th>\n",
       "      <td>-1.648104</td>\n",
       "      <td>0.083000</td>\n",
       "      <td>-1.565104</td>\n",
       "    </tr>\n",
       "  </tbody>\n",
       "</table>\n",
       "</div>"
      ],
      "text/plain": [
       "       price       num       sum\n",
       "m1  1.590966  0.040047  1.631013\n",
       "m2  0.071088  0.655586  0.726674\n",
       "m3 -1.648104  0.083000 -1.565104"
      ]
     },
     "execution_count": 28,
     "metadata": {},
     "output_type": "execute_result"
    }
   ],
   "source": [
    "df = pd.DataFrame(np.random.randn(3,2), index=['m1','m2','m3'], columns=['price', 'num'])\n",
    "df['sum'] = np.sum(df, axis=1)\n",
    "df"
   ]
  }
 ],
 "metadata": {
  "kernelspec": {
   "display_name": "Python 3",
   "language": "python",
   "name": "python3"
  },
  "language_info": {
   "codemirror_mode": {
    "name": "ipython",
    "version": 3
   },
   "file_extension": ".py",
   "mimetype": "text/x-python",
   "name": "python",
   "nbconvert_exporter": "python",
   "pygments_lexer": "ipython3",
   "version": "3.8.8"
  }
 },
 "nbformat": 4,
 "nbformat_minor": 5
}
