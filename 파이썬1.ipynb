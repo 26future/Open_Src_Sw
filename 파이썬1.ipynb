{
 "cells": [
  {
   "cell_type": "code",
   "execution_count": 13,
   "id": "b0d44c35",
   "metadata": {},
   "outputs": [
    {
     "name": "stdout",
     "output_type": "stream",
     "text": [
      "7 36\n"
     ]
    }
   ],
   "source": [
    "time = 456\n",
    "hour = time//60\n",
    "minute = time % 60\n",
    "print(hour, minute)"
   ]
  },
  {
   "cell_type": "code",
   "execution_count": 15,
   "id": "055ba885",
   "metadata": {},
   "outputs": [
    {
     "name": "stdout",
     "output_type": "stream",
     "text": [
      "김철수 2.8\n"
     ]
    }
   ],
   "source": [
    "grade = {\"홍길동\":3.4, \"임꺽정\":4.0, \"김철수\":2.8, \"이영희\":3.9}\n",
    "sorted_grade = sorted(grade, key=lambda x:x[0])\n",
    "print(sorted_grade[0], grade[sorted_grade[0]])"
   ]
  },
  {
   "cell_type": "markdown",
   "id": "88cc85de",
   "metadata": {},
   "source": [
    "## 문자열 포맷팅(formatting)"
   ]
  },
  {
   "cell_type": "code",
   "execution_count": 2,
   "id": "0c566dea",
   "metadata": {},
   "outputs": [
    {
     "name": "stdout",
     "output_type": "stream",
     "text": [
      "height=1.000 meters or 100 cm\n"
     ]
    }
   ],
   "source": [
    "str = \"{0:s}={1:.3f} meters or {2:d} cm\".format('height', 1.0, 100)\n",
    "print(str)"
   ]
  },
  {
   "cell_type": "markdown",
   "id": "30620b1a",
   "metadata": {},
   "source": [
    "## 불리언 로직(Boolean logic)"
   ]
  },
  {
   "cell_type": "code",
   "execution_count": 10,
   "id": "d4cf8b5a",
   "metadata": {},
   "outputs": [
    {
     "name": "stdout",
     "output_type": "stream",
     "text": [
      "2\n",
      "1\n",
      "False\n",
      "True\n",
      "True\n",
      "True\n",
      "True\n"
     ]
    }
   ],
   "source": [
    "A = 1\n",
    "B = 2\n",
    "print(A and B)\n",
    "print(A or B)\n",
    "print(not A)\n",
    "\n",
    "print(1 in [1,2,3])\n",
    "print(\"b\" in \"abc\")\n",
    "\n",
    "print(all([1,1,1]))  # 리스트가 비어있지 않으면 참\n",
    "print(any([0,1,0]))"
   ]
  },
  {
   "cell_type": "code",
   "execution_count": 13,
   "id": "81852514",
   "metadata": {},
   "outputs": [
    {
     "name": "stdout",
     "output_type": "stream",
     "text": [
      "True\n",
      "True\n",
      "140722464237360\n",
      "140722464237360\n",
      "True\n",
      "False\n",
      "2196915890608\n",
      "2196915890480\n"
     ]
    }
   ],
   "source": [
    "a = 1\n",
    "b = 1\n",
    "print(a==b)  \n",
    "print(a is b)  # 값이 작을 때는 같은 주소 공유\n",
    "print(id(a))\n",
    "print(id(b))\n",
    "\n",
    "a = 10000000000\n",
    "b = 10000000000\n",
    "print(a==b)  # 값을 비교\n",
    "print(a is b)  # 주소 비교\n",
    "print(id(a))\n",
    "print(id(b))"
   ]
  },
  {
   "cell_type": "markdown",
   "id": "415698fe",
   "metadata": {},
   "source": [
    "## 함수(function)"
   ]
  },
  {
   "cell_type": "markdown",
   "id": "7203ac45",
   "metadata": {},
   "source": [
    "### 리스트 인자"
   ]
  },
  {
   "cell_type": "code",
   "execution_count": 14,
   "id": "4cc70f2a",
   "metadata": {},
   "outputs": [
    {
     "name": "stdout",
     "output_type": "stream",
     "text": [
      "6\n",
      "6\n"
     ]
    }
   ],
   "source": [
    "def list_add1(list):\n",
    "    return sum(list)\n",
    "\n",
    "def list_add2(list):\n",
    "    sum = 0\n",
    "    for item in list:\n",
    "        sum += item\n",
    "    return sum\n",
    "\n",
    "nums = [1,2,3]\n",
    "print(list_add1(nums))\n",
    "print(list_add2(nums))"
   ]
  },
  {
   "cell_type": "markdown",
   "id": "279f84ea",
   "metadata": {},
   "source": [
    "### 디폴트(default) 인자"
   ]
  },
  {
   "cell_type": "code",
   "execution_count": 17,
   "id": "c9efadf9",
   "metadata": {},
   "outputs": [
    {
     "name": "stdout",
     "output_type": "stream",
     "text": [
      "30\n",
      "20\n",
      "15\n"
     ]
    }
   ],
   "source": [
    "def add(x=5, y=20):\n",
    "    z = x+y\n",
    "    print(z)\n",
    "\n",
    "add(10)\n",
    "add(10,10)\n",
    "add(y=10)"
   ]
  },
  {
   "cell_type": "markdown",
   "id": "49287b6b",
   "metadata": {},
   "source": [
    "### 인자의 자료형"
   ]
  },
  {
   "cell_type": "code",
   "execution_count": 19,
   "id": "72c7ad0d",
   "metadata": {},
   "outputs": [
    {
     "name": "stdout",
     "output_type": "stream",
     "text": [
      "3\n",
      "mystring\n",
      "[1, 2, 3, 4]\n"
     ]
    }
   ],
   "source": [
    "def add(x, y):\n",
    "    z = x+y\n",
    "    return z\n",
    "\n",
    "print(add(1,2))\n",
    "print(add(\"my\",\"string\"))\n",
    "print(add([1,2],[3,4]))"
   ]
  },
  {
   "cell_type": "markdown",
   "id": "c8856686",
   "metadata": {},
   "source": [
    "### 여러 값을 리턴하기"
   ]
  },
  {
   "cell_type": "code",
   "execution_count": 20,
   "id": "2dc95e71",
   "metadata": {},
   "outputs": [
    {
     "name": "stdout",
     "output_type": "stream",
     "text": [
      "(2, 1)\n"
     ]
    }
   ],
   "source": [
    "def swap(x,y):\n",
    "    return (y,x)\n",
    "\n",
    "print(swap(1,2))"
   ]
  },
  {
   "cell_type": "markdown",
   "id": "1aaf081e",
   "metadata": {},
   "source": [
    "### 가변형 인자(variable argument)"
   ]
  },
  {
   "cell_type": "code",
   "execution_count": 23,
   "id": "43a131eb",
   "metadata": {},
   "outputs": [
    {
     "name": "stdout",
     "output_type": "stream",
     "text": [
      "12\n",
      "(1, 2, 3)\n",
      "(1, 2, 3)\n",
      "None\n"
     ]
    }
   ],
   "source": [
    "def scaled_add(c, *args): # *args: 튜플 가변형 인자\n",
    "    return c*sum(args)\n",
    "\n",
    "def showme(*args):\n",
    "    print(args)\n",
    "    \n",
    "print(scaled_add(2,1,2,3))  # c: 2, *args: (1,2,3)\n",
    "showme(1,2,3)\n",
    "print(showme(1,2,3))"
   ]
  },
  {
   "cell_type": "code",
   "execution_count": 24,
   "id": "0a45bacc",
   "metadata": {},
   "outputs": [
    {
     "name": "stdout",
     "output_type": "stream",
     "text": [
      "12\n",
      "{'scale': 2, 'offset': 0}\n"
     ]
    }
   ],
   "source": [
    "def super_add(*args, **kargs):  # **args: 딕셔너리 가변형 인자\n",
    "    c = kargs.get('scale')\n",
    "    o = kargs.get('offset')\n",
    "    return o+c*sum(args)\n",
    "\n",
    "def showmemore(**kargs):\n",
    "    print(kargs)\n",
    "    \n",
    "print(super_add(1,2,3, scale=2, offset=0))\n",
    "showmemore(scale=2, offset=0)"
   ]
  }
 ],
 "metadata": {
  "kernelspec": {
   "display_name": "Python 3",
   "language": "python",
   "name": "python3"
  },
  "language_info": {
   "codemirror_mode": {
    "name": "ipython",
    "version": 3
   },
   "file_extension": ".py",
   "mimetype": "text/x-python",
   "name": "python",
   "nbconvert_exporter": "python",
   "pygments_lexer": "ipython3",
   "version": "3.8.8"
  }
 },
 "nbformat": 4,
 "nbformat_minor": 5
}
