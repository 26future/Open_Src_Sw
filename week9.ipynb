{
 "cells": [
  {
   "cell_type": "code",
   "execution_count": 13,
   "id": "b0d44c35",
   "metadata": {},
   "outputs": [
    {
     "name": "stdout",
     "output_type": "stream",
     "text": [
      "7 36\n"
     ]
    }
   ],
   "source": [
    "time = 456\n",
    "hour = time//60\n",
    "minute = time % 60\n",
    "print(hour, minute)"
   ]
  },
  {
   "cell_type": "code",
   "execution_count": 15,
   "id": "055ba885",
   "metadata": {},
   "outputs": [
    {
     "name": "stdout",
     "output_type": "stream",
     "text": [
      "김철수 2.8\n"
     ]
    }
   ],
   "source": [
    "grade = {\"홍길동\":3.4, \"임꺽정\":4.0, \"김철수\":2.8, \"이영희\":3.9}\n",
    "sorted_grade = sorted(grade, key=lambda x:x[0])\n",
    "print(sorted_grade[0], grade[sorted_grade[0]])"
   ]
  },
  {
   "cell_type": "code",
   "execution_count": null,
   "id": "4f7997f4",
   "metadata": {},
   "outputs": [],
   "source": []
  }
 ],
 "metadata": {
  "kernelspec": {
   "display_name": "Python 3",
   "language": "python",
   "name": "python3"
  },
  "language_info": {
   "codemirror_mode": {
    "name": "ipython",
    "version": 3
   },
   "file_extension": ".py",
   "mimetype": "text/x-python",
   "name": "python",
   "nbconvert_exporter": "python",
   "pygments_lexer": "ipython3",
   "version": "3.8.8"
  }
 },
 "nbformat": 4,
 "nbformat_minor": 5
}
