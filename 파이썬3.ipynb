{
 "cells": [
  {
   "cell_type": "markdown",
   "id": "3e276fd5",
   "metadata": {},
   "source": [
    "## 파일 입출력"
   ]
  },
  {
   "cell_type": "markdown",
   "id": "04638d1e",
   "metadata": {},
   "source": [
    "### 파일을 전부 읽은 문자열을 리턴"
   ]
  },
  {
   "cell_type": "code",
   "execution_count": 17,
   "id": "9b5f6f17",
   "metadata": {},
   "outputs": [
    {
     "name": "stdout",
     "output_type": "stream",
     "text": [
      "README 파일입니다 \n",
      "파이썬 파일 읽기 예제입니다.\n",
      "다양한 메소드를 공부해 보세요\n",
      "실력이 팍팍 늘 거에요~\n"
     ]
    }
   ],
   "source": [
    "f = open('README.txt', 'r', encoding='utf-8')\n",
    "\n",
    "data = f.read()  \n",
    "print(data)\n",
    "\n",
    "f.close()"
   ]
  },
  {
   "cell_type": "markdown",
   "id": "5023e697",
   "metadata": {},
   "source": [
    "### 파일에서 한 라인씩 가져오기"
   ]
  },
  {
   "cell_type": "code",
   "execution_count": 18,
   "id": "e4ea02c8",
   "metadata": {},
   "outputs": [
    {
     "name": "stdout",
     "output_type": "stream",
     "text": [
      "README 파일입니다 \n",
      "\n",
      "파이썬 파일 읽기 예제입니다.\n",
      "\n",
      "다양한 메소드를 공부해 보세요\n",
      "\n",
      "실력이 팍팍 늘 거에요~\n"
     ]
    }
   ],
   "source": [
    "f = open('README.txt', 'r', encoding='utf-8')\n",
    "\n",
    "for line in f:\n",
    "    print(line)\n",
    "    \n",
    "f.close()"
   ]
  },
  {
   "cell_type": "markdown",
   "id": "b1f6af8c",
   "metadata": {},
   "source": [
    "### 파일의 한 라인을 읽어서 문자열로 리턴"
   ]
  },
  {
   "cell_type": "code",
   "execution_count": 19,
   "id": "9b98f9a5",
   "metadata": {},
   "outputs": [
    {
     "name": "stdout",
     "output_type": "stream",
     "text": [
      "README 파일입니다 \n",
      "\n"
     ]
    }
   ],
   "source": [
    "f = open('README.txt', 'r', encoding='utf-8')\n",
    "\n",
    "line = f.readline()\n",
    "print(line)\n",
    "\n",
    "f.close()"
   ]
  },
  {
   "cell_type": "markdown",
   "id": "1560a26b",
   "metadata": {},
   "source": [
    "### 파일의 모든 라인을 한꺼번에 읽어서 리스트로 리턴"
   ]
  },
  {
   "cell_type": "code",
   "execution_count": 20,
   "id": "07e4d76e",
   "metadata": {},
   "outputs": [
    {
     "name": "stdout",
     "output_type": "stream",
     "text": [
      "['README 파일입니다 \\n', '파이썬 파일 읽기 예제입니다.\\n', '다양한 메소드를 공부해 보세요\\n', '실력이 팍팍 늘 거에요~']\n"
     ]
    }
   ],
   "source": [
    "f = open('README.txt', 'r', encoding='utf-8')\n",
    "\n",
    "lines = f.readlines()\n",
    "print(lines)\n",
    "\n",
    "f.close()"
   ]
  },
  {
   "cell_type": "markdown",
   "id": "5bf5fdac",
   "metadata": {},
   "source": [
    "### CSV 파일 읽기"
   ]
  },
  {
   "cell_type": "code",
   "execution_count": null,
   "id": "27551c3c",
   "metadata": {},
   "outputs": [],
   "source": [
    "import csv\n",
    "f = open('data.csv', 'r', encoding='cp949')\n",
    "data = csv.reader(f, delimiter=',')\n",
    "print(data)\n",
    "f.close()"
   ]
  },
  {
   "cell_type": "code",
   "execution_count": null,
   "id": "b0ae2968",
   "metadata": {},
   "outputs": [],
   "source": [
    "import csv\n",
    "f = open('data.csv', 'r', encoding='cp949')\n",
    "data = csv.reader(f)\n",
    "for row in data:\n",
    "    print(row)\n",
    "f.close()"
   ]
  },
  {
   "cell_type": "markdown",
   "id": "97a60f8b",
   "metadata": {},
   "source": [
    "### 파일 쓰기 - 기존의 내용은 사라짐"
   ]
  },
  {
   "cell_type": "code",
   "execution_count": 21,
   "id": "64d6fed6",
   "metadata": {},
   "outputs": [],
   "source": [
    "f = open('new.txt', 'w')\n",
    "\n",
    "for i in range(1,11):\n",
    "    data = \"{0:d} line.\\n\".format(i)\n",
    "    f.write(data)\n",
    "    \n",
    "f.close()"
   ]
  },
  {
   "cell_type": "markdown",
   "id": "6d18f691",
   "metadata": {},
   "source": [
    "### 추가 모드로 파일 쓰기 - 기존 내용 + 새로운 내용"
   ]
  },
  {
   "cell_type": "code",
   "execution_count": 22,
   "id": "38582e55",
   "metadata": {},
   "outputs": [],
   "source": [
    "f = open('new.txt', 'a')\n",
    "\n",
    "for i in range(11,21):\n",
    "    data = '{0:d} line.\\n'.format(i)\n",
    "    f.write(data)\n",
    "    \n",
    "f.close()"
   ]
  },
  {
   "cell_type": "markdown",
   "id": "b91da759",
   "metadata": {},
   "source": [
    "## 클래스(Class)"
   ]
  },
  {
   "cell_type": "code",
   "execution_count": 23,
   "id": "70e4db20",
   "metadata": {},
   "outputs": [],
   "source": [
    "class Calc:\n",
    "    \n",
    "    my_name = \"I'm Calc Module!\"\n",
    "    \n",
    "    def add(self, a, b):\n",
    "        result = a + b\n",
    "        print(\"{0:d} + {1:f} = {2:f}\".format(a,b,result))\n",
    "        \n",
    "    def sub(self, a, b):\n",
    "        result = a - b\n",
    "        print(\"{0:f} - {1:f} = {2:f}\".format(a,b,result))\n",
    "    \n",
    "    def mul(self, a, b):\n",
    "        result = a * b\n",
    "        print(\"{0:f} * {1:f} = {2:f}\".format(a,b,result))\n",
    "        \n",
    "    def div(self, a, b):\n",
    "        if b != 0:\n",
    "            result = a / b\n",
    "            print(\"{0:f} / {1:f} = {2:f}\".format(a,b,result))\n",
    "        else:\n",
    "            print(\"Divided by zero!\")"
   ]
  },
  {
   "cell_type": "code",
   "execution_count": 24,
   "id": "cb66d038",
   "metadata": {},
   "outputs": [
    {
     "name": "stdout",
     "output_type": "stream",
     "text": [
      "I'm Calc Module!\n"
     ]
    }
   ],
   "source": [
    "num = Calc()\n",
    "print(num.my_name)"
   ]
  },
  {
   "cell_type": "code",
   "execution_count": 25,
   "id": "73ef875d",
   "metadata": {},
   "outputs": [
    {
     "name": "stdout",
     "output_type": "stream",
     "text": [
      "1 + 2.000000 = 3.000000\n",
      "1.000000 - 2.000000 = -1.000000\n",
      "1.000000 * 2.000000 = 2.000000\n",
      "Divided by zero!\n"
     ]
    }
   ],
   "source": [
    "num.add(1,2)\n",
    "num.sub(1,2)\n",
    "num.mul(1,2)\n",
    "num.div(1,0)"
   ]
  },
  {
   "cell_type": "markdown",
   "id": "aeec90c8",
   "metadata": {},
   "source": [
    "### 생성자(__init__)"
   ]
  },
  {
   "cell_type": "code",
   "execution_count": 32,
   "id": "690c053e",
   "metadata": {},
   "outputs": [],
   "source": [
    "class Calc:\n",
    "    \n",
    "    my_name = \"I'm Calc Module!\"\n",
    "    scale = 0\n",
    "    \n",
    "    def __init__(self, scale=1):\n",
    "        self.scale = scale\n",
    "        \n",
    "    def add(self, a, b):\n",
    "        result = (a + b)*self.scale\n",
    "        print(\"({0:f} + {1:f}) * {2:f} = {3:f}\".format(a,b,self.scale,result))"
   ]
  },
  {
   "cell_type": "code",
   "execution_count": 34,
   "id": "14ca56f3",
   "metadata": {},
   "outputs": [
    {
     "name": "stdout",
     "output_type": "stream",
     "text": [
      "(1.000000 + 2.000000) * 1.000000 = 3.000000\n",
      "(1.000000 + 2.000000) * 10.000000 = 30.000000\n"
     ]
    }
   ],
   "source": [
    "num1 = Calc()\n",
    "num1.add(1,2)\n",
    "num2 = Calc(10)\n",
    "num2.add(1,2)"
   ]
  },
  {
   "cell_type": "markdown",
   "id": "c1b44a8a",
   "metadata": {},
   "source": [
    "### 소멸자(__del__)"
   ]
  },
  {
   "cell_type": "code",
   "execution_count": 35,
   "id": "79c53097",
   "metadata": {},
   "outputs": [],
   "source": [
    "class Calc:\n",
    "    \n",
    "    my_name = \"I'm Calc Module!\"\n",
    "    scale = 0\n",
    "    \n",
    "    def __init__(self,scale=1):\n",
    "        self.scale = scale\n",
    "        \n",
    "    def __del__(self):\n",
    "        self.scale = 1\n",
    "        print(\"Scale is reset to 1.\")\n",
    "        \n",
    "    def add(self, a, b):\n",
    "        result = (a + b)*self.scale\n",
    "        print(\"({0:f} + {1:f}) * {2:f} = {3:f}\".format(a,b,self.scale,result))"
   ]
  },
  {
   "cell_type": "code",
   "execution_count": 36,
   "id": "f5cfa394",
   "metadata": {},
   "outputs": [
    {
     "name": "stdout",
     "output_type": "stream",
     "text": [
      "(1.000000 + 2.000000) * 1.000000 = 3.000000\n",
      "(1.000000 + 2.000000) * 10.000000 = 30.000000\n",
      "Scale is reset to 1.\n"
     ]
    }
   ],
   "source": [
    "num1 = Calc()\n",
    "num1.add(1,2)\n",
    "num2 = Calc(10)\n",
    "num2.add(1,2)\n",
    "del(num2)"
   ]
  },
  {
   "cell_type": "markdown",
   "id": "aedb0a00",
   "metadata": {},
   "source": [
    "### 상속(inheritance)"
   ]
  },
  {
   "cell_type": "code",
   "execution_count": 41,
   "id": "f48dc211",
   "metadata": {},
   "outputs": [],
   "source": [
    "class ParentCalc:\n",
    "    def add(self, a, b):\n",
    "        result = a + b\n",
    "        print(\"{0:f} + {1:f} = {2:f}\".format(a,b,result))\n",
    "    \n",
    "    def sub(self, a, b):\n",
    "        result = a - b\n",
    "        print(\"{0:f} - {1:f} = {2:f}\".format(a,b,result))\n",
    "        \n",
    "class ChildCalc(ParentCalc):\n",
    "    def add(self, *a):  # 함수 오버로딩(function overloading)\n",
    "        s = \"{0:f}\".format(a[0])\n",
    "        for i in a[1:]:\n",
    "            s = s + \" + \" + \"{0:f}\".format(i)\n",
    "        result = sum(a)\n",
    "        print(\"{0:s} = {1:f}\".format(s, result))"
   ]
  },
  {
   "cell_type": "code",
   "execution_count": 42,
   "id": "951e1f59",
   "metadata": {},
   "outputs": [
    {
     "name": "stdout",
     "output_type": "stream",
     "text": [
      "1.000000 + 2.000000 + 3.000000 + 4.000000 = 10.000000\n",
      "1.000000 - 2.000000 = -1.000000\n"
     ]
    }
   ],
   "source": [
    "num = ChildCalc()\n",
    "num.add(1,2,3,4)\n",
    "num.sub(1,2)"
   ]
  },
  {
   "cell_type": "markdown",
   "id": "3207f993",
   "metadata": {},
   "source": [
    "### 접근 권한(access modifier)"
   ]
  },
  {
   "cell_type": "code",
   "execution_count": 45,
   "id": "9009978b",
   "metadata": {},
   "outputs": [],
   "source": [
    "class ParentCalc:\n",
    "    my_name = \"Public ParentCalc\"\n",
    "    __my_name = \"Private ParentCalc\"\n",
    "    \n",
    "    def show_name(self):\n",
    "        print(self.my_name)\n",
    "        print(self.__my_name)\n",
    "        \n",
    "class ChildCalc(ParentCalc):\n",
    "    my_name = \"Public ChildCalc\"\n",
    "    __my_name = \"Private ChildCalc\"\n",
    "    \n",
    "    def show_name(self):\n",
    "        print(super().my_name)\n",
    "        print(self.my_name)\n",
    "        print(super().__my_name)"
   ]
  },
  {
   "cell_type": "code",
   "execution_count": 46,
   "id": "1a000c6b",
   "metadata": {},
   "outputs": [
    {
     "name": "stdout",
     "output_type": "stream",
     "text": [
      "Public ParentCalc\n",
      "Private ParentCalc\n",
      "\n",
      "Public ParentCalc\n"
     ]
    },
    {
     "ename": "AttributeError",
     "evalue": "'ParentCalc' object has no attribute '__my_name'",
     "output_type": "error",
     "traceback": [
      "\u001b[1;31m---------------------------------------------------------------------------\u001b[0m",
      "\u001b[1;31mAttributeError\u001b[0m                            Traceback (most recent call last)",
      "\u001b[1;32m<ipython-input-46-72e5636950bd>\u001b[0m in \u001b[0;36m<module>\u001b[1;34m\u001b[0m\n\u001b[0;32m      3\u001b[0m \u001b[0mprint\u001b[0m\u001b[1;33m(\u001b[0m\u001b[1;34m\"\"\u001b[0m\u001b[1;33m)\u001b[0m\u001b[1;33m\u001b[0m\u001b[1;33m\u001b[0m\u001b[0m\n\u001b[0;32m      4\u001b[0m \u001b[0mprint\u001b[0m\u001b[1;33m(\u001b[0m\u001b[0mnum1\u001b[0m\u001b[1;33m.\u001b[0m\u001b[0mmy_name\u001b[0m\u001b[1;33m)\u001b[0m\u001b[1;33m\u001b[0m\u001b[1;33m\u001b[0m\u001b[0m\n\u001b[1;32m----> 5\u001b[1;33m \u001b[0mprint\u001b[0m\u001b[1;33m(\u001b[0m\u001b[0mnum1\u001b[0m\u001b[1;33m.\u001b[0m\u001b[0m__my_name\u001b[0m\u001b[1;33m)\u001b[0m\u001b[1;33m\u001b[0m\u001b[1;33m\u001b[0m\u001b[0m\n\u001b[0m",
      "\u001b[1;31mAttributeError\u001b[0m: 'ParentCalc' object has no attribute '__my_name'"
     ]
    }
   ],
   "source": [
    "num1 = ParentCalc()\n",
    "num1.show_name()\n",
    "print(\"\")\n",
    "print(num1.my_name)\n",
    "print(num1.__my_name)"
   ]
  },
  {
   "cell_type": "code",
   "execution_count": 47,
   "id": "741ba978",
   "metadata": {},
   "outputs": [
    {
     "name": "stdout",
     "output_type": "stream",
     "text": [
      "Public ParentCalc\n",
      "Private ParentCalc\n",
      "\n",
      "Public ParentCalc\n",
      "Public ChildCalc\n"
     ]
    },
    {
     "ename": "AttributeError",
     "evalue": "'super' object has no attribute '_ChildCalc__my_name'",
     "output_type": "error",
     "traceback": [
      "\u001b[1;31m---------------------------------------------------------------------------\u001b[0m",
      "\u001b[1;31mAttributeError\u001b[0m                            Traceback (most recent call last)",
      "\u001b[1;32m<ipython-input-47-ceb09610d431>\u001b[0m in \u001b[0;36m<module>\u001b[1;34m\u001b[0m\n\u001b[0;32m      3\u001b[0m \u001b[0mprint\u001b[0m\u001b[1;33m(\u001b[0m\u001b[1;34m\"\"\u001b[0m\u001b[1;33m)\u001b[0m\u001b[1;33m\u001b[0m\u001b[1;33m\u001b[0m\u001b[0m\n\u001b[0;32m      4\u001b[0m \u001b[0mnum2\u001b[0m \u001b[1;33m=\u001b[0m \u001b[0mChildCalc\u001b[0m\u001b[1;33m(\u001b[0m\u001b[1;33m)\u001b[0m\u001b[1;33m\u001b[0m\u001b[1;33m\u001b[0m\u001b[0m\n\u001b[1;32m----> 5\u001b[1;33m \u001b[0mnum2\u001b[0m\u001b[1;33m.\u001b[0m\u001b[0mshow_name\u001b[0m\u001b[1;33m(\u001b[0m\u001b[1;33m)\u001b[0m\u001b[1;33m\u001b[0m\u001b[1;33m\u001b[0m\u001b[0m\n\u001b[0m",
      "\u001b[1;32m<ipython-input-45-a65c20f03065>\u001b[0m in \u001b[0;36mshow_name\u001b[1;34m(self)\u001b[0m\n\u001b[0;32m     14\u001b[0m         \u001b[0mprint\u001b[0m\u001b[1;33m(\u001b[0m\u001b[0msuper\u001b[0m\u001b[1;33m(\u001b[0m\u001b[1;33m)\u001b[0m\u001b[1;33m.\u001b[0m\u001b[0mmy_name\u001b[0m\u001b[1;33m)\u001b[0m\u001b[1;33m\u001b[0m\u001b[1;33m\u001b[0m\u001b[0m\n\u001b[0;32m     15\u001b[0m         \u001b[0mprint\u001b[0m\u001b[1;33m(\u001b[0m\u001b[0mself\u001b[0m\u001b[1;33m.\u001b[0m\u001b[0mmy_name\u001b[0m\u001b[1;33m)\u001b[0m\u001b[1;33m\u001b[0m\u001b[1;33m\u001b[0m\u001b[0m\n\u001b[1;32m---> 16\u001b[1;33m         \u001b[0mprint\u001b[0m\u001b[1;33m(\u001b[0m\u001b[0msuper\u001b[0m\u001b[1;33m(\u001b[0m\u001b[1;33m)\u001b[0m\u001b[1;33m.\u001b[0m\u001b[0m__my_name\u001b[0m\u001b[1;33m)\u001b[0m\u001b[1;33m\u001b[0m\u001b[1;33m\u001b[0m\u001b[0m\n\u001b[0m",
      "\u001b[1;31mAttributeError\u001b[0m: 'super' object has no attribute '_ChildCalc__my_name'"
     ]
    }
   ],
   "source": [
    "num1 = ParentCalc()\n",
    "num1.show_name()\n",
    "print(\"\")\n",
    "num2 = ChildCalc()\n",
    "num2.show_name()"
   ]
  },
  {
   "cell_type": "markdown",
   "id": "e5d96a57",
   "metadata": {},
   "source": [
    "### 연산자 오버라이딩(operator overriding)"
   ]
  },
  {
   "cell_type": "code",
   "execution_count": 52,
   "id": "ddf0a376",
   "metadata": {},
   "outputs": [],
   "source": [
    "class Point:\n",
    "    def __init__(self, x, y):\n",
    "        self.x = x\n",
    "        self.y = y\n",
    "        \n",
    "    def __add__(self, other):  # self 인스턴스 + other 인스턴스\n",
    "        self.x += other.x  \n",
    "        self.y += other.y\n",
    "        return self  # 계산된 값을 다른 인스턴스에 할당하기 위해서 자신을 리턴\n",
    "    \n",
    "    def show(self):\n",
    "        print(\"({0:d}, {1:d})\".format(self.x, self.y))"
   ]
  },
  {
   "cell_type": "code",
   "execution_count": 53,
   "id": "f071b857",
   "metadata": {},
   "outputs": [
    {
     "name": "stdout",
     "output_type": "stream",
     "text": [
      "(1, 2)\n",
      "(3, 4)\n",
      "(4, 6)\n"
     ]
    }
   ],
   "source": [
    "a = Point(1,2)\n",
    "a.show()\n",
    "\n",
    "b = Point(3,4)\n",
    "b.show()\n",
    "\n",
    "a = a + b\n",
    "a.show()"
   ]
  },
  {
   "cell_type": "markdown",
   "id": "8716eec4",
   "metadata": {},
   "source": [
    "## 예외처리(exception handling)"
   ]
  },
  {
   "cell_type": "code",
   "execution_count": 54,
   "id": "0bec8b82",
   "metadata": {},
   "outputs": [
    {
     "name": "stdout",
     "output_type": "stream",
     "text": [
      "num1=4\n",
      "num2=0\n",
      "division by zero\n",
      "The end!\n"
     ]
    }
   ],
   "source": [
    "num1 = int(input(\"num1=\"))\n",
    "num2 = int(input(\"num2=\"))\n",
    "\n",
    "try:\n",
    "    num3 = num1/num2\n",
    "    print(\"{0:f} / {1:f} = {2:f}\".format(num1,num2,num3))\n",
    "\n",
    "except ZeroDivisionError as e:\n",
    "    print(e)\n",
    "\n",
    "finally:\n",
    "    print(\"The end!\")"
   ]
  }
 ],
 "metadata": {
  "kernelspec": {
   "display_name": "Python 3",
   "language": "python",
   "name": "python3"
  },
  "language_info": {
   "codemirror_mode": {
    "name": "ipython",
    "version": 3
   },
   "file_extension": ".py",
   "mimetype": "text/x-python",
   "name": "python",
   "nbconvert_exporter": "python",
   "pygments_lexer": "ipython3",
   "version": "3.8.8"
  }
 },
 "nbformat": 4,
 "nbformat_minor": 5
}
